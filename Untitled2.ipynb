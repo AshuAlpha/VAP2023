{
 "cells": [
  {
   "cell_type": "code",
   "execution_count": 1,
   "id": "92f34329",
   "metadata": {},
   "outputs": [
    {
     "ename": "SyntaxError",
     "evalue": "invalid syntax (642554262.py, line 1)",
     "output_type": "error",
     "traceback": [
      "\u001b[1;36m  Cell \u001b[1;32mIn[1], line 1\u001b[1;36m\u001b[0m\n\u001b[1;33m    <!DOCTYPE html>\u001b[0m\n\u001b[1;37m    ^\u001b[0m\n\u001b[1;31mSyntaxError\u001b[0m\u001b[1;31m:\u001b[0m invalid syntax\n"
     ]
    }
   ],
   "source": [
    "<!DOCTYPE html>\n",
    "<html>\n",
    "<head>\n",
    "<title>Heading Example</title> </head>\n",
    "<body>\n",
    "<h1>This is heading 1</h1>\n",
    "<h2>This is heading 2</h2>\n",
    "<h3>This is heading 3</h3>\n",
    "<h4>This is heading 4</h4>\n",
    "<h5>This is heading 5</h5>\n",
    "<h6>This is heading 6</h6>\n",
    "</body>\n",
    "</html>\n"
   ]
  },
  {
   "cell_type": "markdown",
   "id": "5043118a",
   "metadata": {},
   "source": []
  },
  {
   "cell_type": "code",
   "execution_count": 3,
   "id": "f7361b78",
   "metadata": {},
   "outputs": [
    {
     "name": "stdout",
     "output_type": "stream",
     "text": [
      "Line 2 - Value of c is  -1\n",
      "Line 3 - Value of c is  110\n",
      "Line 4 - Value of c is  0.9090909090909091\n",
      "Line 5 - Value of c is  10\n",
      "Line 6 - Value of c is  8\n",
      "Line 7 - Value of c is  2\n"
     ]
    }
   ],
   "source": [
    "a= 10\n",
    "b= 11\n",
    "c=a-b\n",
    "print (\"Line 2 - Value of c is \", c )\n",
    "c=a*b\n",
    "print (\"Line 3 - Value of c is \", c)\n",
    "c=a/b\n",
    "print (\"Line 4 - Value of c is \", c )\n",
    "c=a%b\n",
    "print (\"Line 5 - Value of c is \", c)\n",
    "a=2\n",
    "b=3\n",
    "c = a**b\n",
    "print (\"Line 6 - Value of c is \", c)\n",
    "a = 10\n",
    "b=5\n",
    "c = a//b\n",
    "print (\"Line 7 - Value of c is \", c)\n"
   ]
  },
  {
   "cell_type": "code",
   "execution_count": 4,
   "id": "47fb6091",
   "metadata": {},
   "outputs": [
    {
     "ename": "IndentationError",
     "evalue": "expected an indented block after 'if' statement on line 20 (1513888491.py, line 21)",
     "output_type": "error",
     "traceback": [
      "\u001b[1;36m  Cell \u001b[1;32mIn[4], line 21\u001b[1;36m\u001b[0m\n\u001b[1;33m    print (\"Line 5 - a is either less than or equal to b\")\u001b[0m\n\u001b[1;37m    ^\u001b[0m\n\u001b[1;31mIndentationError\u001b[0m\u001b[1;31m:\u001b[0m expected an indented block after 'if' statement on line 20\n"
     ]
    }
   ],
   "source": [
    "a = 21\n",
    "b = 10\n",
    "if ( a == b ):\n",
    "  print (\"Line 1 - a is equal to b\") \n",
    "else:\n",
    "  print (\"Line 1 - a is not equal to b\")\n",
    "if ( a != b ):\n",
    "  print (\"Line 2 - a is not equal to b\")\n",
    "else:\n",
    "  print (\"Line 2 - a is equal to b\")\n",
    "if ( a < b ):\n",
    "  print (\"Line 3 - a is less than b\" )\n",
    "else:\n",
    "  print (\"Line 3 - a is not less than b\")\n",
    "if ( a > b ):\n",
    "  print (\"Line 4 - a is greater than b\")\n",
    "else:\n",
    "  print (\"Line 4 - a is not greater than b\")\n",
    "a,b=b,a #values of a and b swapped. a becomes 10, b becomes 21\n",
    "if ( a <= b ):\n",
    "print (\"Line 5 - a is either less than or equal to b\")\n",
    "else:\n",
    "print (\"Line 5 - a is neither less than nor equal to b\")\n",
    "if ( b >= a ):\n",
    "print (\"Line 6 - b is either greater than or equal to b\")\n",
    "else:\n",
    "print (\"Line 6 - b is neither greater than nor equal to b\")\n"
   ]
  },
  {
   "cell_type": "code",
   "execution_count": 5,
   "id": "2dff3533",
   "metadata": {},
   "outputs": [
    {
     "ename": "SyntaxError",
     "evalue": "invalid syntax (777175850.py, line 2)",
     "output_type": "error",
     "traceback": [
      "\u001b[1;36m  Cell \u001b[1;32mIn[5], line 2\u001b[1;36m\u001b[0m\n\u001b[1;33m    Request to Join\u001b[0m\n\u001b[1;37m            ^\u001b[0m\n\u001b[1;31mSyntaxError\u001b[0m\u001b[1;31m:\u001b[0m invalid syntax\n"
     ]
    }
   ],
   "source": [
    "\n",
    "mix.py\n",
    "Request to Join\n",
    "\n",
    "\n",
    "Remix\n",
    "notice: Remix or join to edit\n",
    "html-demos\n",
    "\n",
    "Settings\n",
    "Assets\n",
    "Files\n",
    "a = 10\n",
    "b = 20\n",
    "print(a==b)\n",
    "print(a<=b)\n",
    "Remix to Edit \n",
    "\n",
    "Login\n",
    "Report Abuse\n",
    "\n",
    "PREVIEW"
   ]
  },
  {
   "cell_type": "code",
   "execution_count": 6,
   "id": "ae542cfa",
   "metadata": {},
   "outputs": [
    {
     "name": "stdout",
     "output_type": "stream",
     "text": [
      "False\n",
      "True\n"
     ]
    }
   ],
   "source": [
    "a = 10\n",
    "b = 20\n",
    "print(a==b)\n",
    "print(a<=b)\n",
    "\n"
   ]
  },
  {
   "cell_type": "code",
   "execution_count": 7,
   "id": "a7dfcd00",
   "metadata": {},
   "outputs": [
    {
     "name": "stdout",
     "output_type": "stream",
     "text": [
      "30\n"
     ]
    }
   ],
   "source": [
    "c= a+ b\n",
    "print(c)"
   ]
  },
  {
   "cell_type": "code",
   "execution_count": 11,
   "id": "2ccde4e7",
   "metadata": {},
   "outputs": [
    {
     "name": "stdout",
     "output_type": "stream",
     "text": [
      "90\n",
      "70\n"
     ]
    }
   ],
   "source": [
    "a+=b\n",
    "print(a)\n",
    "a-=b\n",
    "print(a)"
   ]
  },
  {
   "cell_type": "code",
   "execution_count": 12,
   "id": "f53b7573",
   "metadata": {},
   "outputs": [
    {
     "name": "stdout",
     "output_type": "stream",
     "text": [
      "1400\n"
     ]
    }
   ],
   "source": [
    "a*=b\n",
    "print(a)"
   ]
  },
  {
   "cell_type": "code",
   "execution_count": 13,
   "id": "b8cf4110",
   "metadata": {},
   "outputs": [
    {
     "name": "stdout",
     "output_type": "stream",
     "text": [
      "20\n"
     ]
    }
   ],
   "source": [
    "a/=b\n",
    "print(b)"
   ]
  },
  {
   "cell_type": "code",
   "execution_count": 14,
   "id": "3c5807e6",
   "metadata": {},
   "outputs": [
    {
     "name": "stdout",
     "output_type": "stream",
     "text": [
      "9\n"
     ]
    }
   ],
   "source": [
    "a= 9\n",
    "b= 10\n",
    "print (a)"
   ]
  },
  {
   "cell_type": "code",
   "execution_count": 15,
   "id": "7a26b68e",
   "metadata": {},
   "outputs": [
    {
     "name": "stdout",
     "output_type": "stream",
     "text": [
      "19\n"
     ]
    }
   ],
   "source": [
    "a+=b\n",
    "print (a)"
   ]
  },
  {
   "cell_type": "code",
   "execution_count": 16,
   "id": "4eaba6af",
   "metadata": {},
   "outputs": [
    {
     "name": "stdout",
     "output_type": "stream",
     "text": [
      "10\n"
     ]
    }
   ],
   "source": [
    "a+b\n",
    "print(b)"
   ]
  },
  {
   "cell_type": "code",
   "execution_count": 19,
   "id": "cab6dc87",
   "metadata": {},
   "outputs": [
    {
     "ename": "SyntaxError",
     "evalue": "leading zeros in decimal integer literals are not permitted; use an 0o prefix for octal integers (3032533289.py, line 1)",
     "output_type": "error",
     "traceback": [
      "\u001b[1;36m  Cell \u001b[1;32mIn[19], line 1\u001b[1;36m\u001b[0m\n\u001b[1;33m    a = 0011 1010\u001b[0m\n\u001b[1;37m        ^\u001b[0m\n\u001b[1;31mSyntaxError\u001b[0m\u001b[1;31m:\u001b[0m leading zeros in decimal integer literals are not permitted; use an 0o prefix for octal integers\n"
     ]
    }
   ],
   "source": []
  },
  {
   "cell_type": "code",
   "execution_count": 22,
   "id": "a547d958",
   "metadata": {},
   "outputs": [
    {
     "name": "stdout",
     "output_type": "stream",
     "text": [
      "a= 60 : 0b111100 b= : 0b1101\n",
      "result of AND is 12 : 0b1100\n",
      "result of OR is  61 : 0b111101\n",
      "result of EXOR is  49 : 0b110001\n",
      "result of COMPLEMENT is -61 : -0b111101\n",
      "result of left shift\n",
      "result of the RIGHT SHIFT is 15 : 0b1111\n"
     ]
    }
   ],
   "source": [
    "a = 60     #60= 0011 1100\n",
    "b = 13     #13= 0000 1101\n",
    "print('a=',a,':',bin(a),'b=',':',bin(b))\n",
    "c=0\n",
    "\n",
    "c=a&b;  #12=0000 1100\n",
    "print(\"result of AND is\", c, ':',bin(c))\n",
    "\n",
    "c=a|b; #61=0011 1101\n",
    "print(\"result of OR is \",c, ':', bin(c))\n",
    "\n",
    "c= a^b; #49=0011 0001\n",
    "print(\"result of EXOR is \",c,':',bin(c))\n",
    "\n",
    "c= ~a;  #-61= 1100 0011\n",
    "print(\"result of COMPLEMENT is\", c,':',bin(c))\n",
    "\n",
    "c= a<<2;  #240= 1111 0000\n",
    "print (\"result of left shift\")\n",
    "\n",
    "c=a>> 2;   #15=0000 1111\n",
    "print(\"result of the RIGHT SHIFT is\", c, ':',bin(c))"
   ]
  },
  {
   "cell_type": "code",
   "execution_count": 25,
   "id": "bc4158ea",
   "metadata": {},
   "outputs": [
    {
     "name": "stdout",
     "output_type": "stream",
     "text": [
      "the count is: 0\n",
      "the count is: 1\n",
      "the count is: 2\n",
      "the count is: 3\n",
      "the count is: 4\n",
      "the count is: 5\n",
      "the count is: 6\n",
      "the count is: 7\n",
      "the count is: 8\n",
      "Good bye!\n"
     ]
    }
   ],
   "source": [
    "count = 0\n",
    "while (count<9):\n",
    "    print('the count is:', count)\n",
    "    count = count + 1\n",
    "print(\"Good bye!\")"
   ]
  },
  {
   "cell_type": "code",
   "execution_count": null,
   "id": "525a2597",
   "metadata": {},
   "outputs": [],
   "source": []
  }
 ],
 "metadata": {
  "kernelspec": {
   "display_name": "Python 3 (ipykernel)",
   "language": "python",
   "name": "python3"
  },
  "language_info": {
   "codemirror_mode": {
    "name": "ipython",
    "version": 3
   },
   "file_extension": ".py",
   "mimetype": "text/x-python",
   "name": "python",
   "nbconvert_exporter": "python",
   "pygments_lexer": "ipython3",
   "version": "3.10.9"
  }
 },
 "nbformat": 4,
 "nbformat_minor": 5
}
