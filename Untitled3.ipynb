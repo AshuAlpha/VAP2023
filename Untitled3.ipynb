{
 "cells": [
  {
   "cell_type": "code",
   "execution_count": 3,
   "id": "e3b721c1",
   "metadata": {},
   "outputs": [
    {
     "name": "stdout",
     "output_type": "stream",
     "text": [
      "25\n"
     ]
    },
    {
     "data": {
      "text/plain": [
       "25"
      ]
     },
     "execution_count": 3,
     "metadata": {},
     "output_type": "execute_result"
    }
   ],
   "source": [
    "def fun1(a,b):\n",
    "    c= a+b\n",
    "    print(c)\n",
    "    return c;\n",
    "fun1 (10,15)  "
   ]
  },
  {
   "cell_type": "code",
   "execution_count": 4,
   "id": "5069b135",
   "metadata": {},
   "outputs": [
    {
     "name": "stdout",
     "output_type": "stream",
     "text": [
      "2\n",
      "<__main__.pc1 object at 0x0000023FBBD52B90> 200\n",
      "200\n"
     ]
    }
   ],
   "source": [
    "a= 200 \n",
    "\n",
    "class pc1:\n",
    "    a=200\n",
    "    n=\"Sushant\"\n",
    "    def fun2(self,a,b):\n",
    "        a=2\n",
    "        return a\n",
    "\n",
    "obj1 =pc1()\n",
    "print(obj1.fun2(20,40))\n",
    "print(obj1,a)\n",
    "\n",
    "print(a)"
   ]
  },
  {
   "cell_type": "code",
   "execution_count": 9,
   "id": "3cfafe42",
   "metadata": {},
   "outputs": [
    {
     "name": "stdout",
     "output_type": "stream",
     "text": [
      "Name: Riya\n",
      "Salary: 45000\n",
      "Name: Sushant\n",
      "Salary: 4521000\n"
     ]
    }
   ],
   "source": [
    "class Employee:\n",
    "    def __init__(self, empName):\n",
    "        self.name = empName\n",
    "        self.salary = None\n",
    "        \n",
    "    def setSalary(self, empSal):\n",
    "        self.salary = empSal\n",
    "        \n",
    "    def printEmp(self):\n",
    "        print(\"Name:\", self.name)\n",
    "        print(\"Salary:\", self.salary)\n",
    "        \n",
    "empOne = Employee(\"Riya\")\n",
    "empOne.setSalary(45000)\n",
    "empOne.printEmp()\n",
    "emptwo = Employee(\"Sushant\")\n",
    "emptwo.setSalary(4521000)\n",
    "emptwo.printEmp()\n"
   ]
  },
  {
   "cell_type": "code",
   "execution_count": 30,
   "id": "a02cd01d",
   "metadata": {},
   "outputs": [
    {
     "name": "stdout",
     "output_type": "stream",
     "text": [
      "class B function fun2 run\n",
      "class A function fun1 run\n",
      "class A function fun1 run\n",
      "class B function fun2 run\n",
      "class A function fun1 run\n"
     ]
    }
   ],
   "source": [
    "class A:\n",
    "    def __inti__(self):\n",
    "        print(\"class A run\")\n",
    "        \n",
    "    def fun1(self):\n",
    "        print(\"class A function fun1 run\")\n",
    "            \n",
    "class B(A):\n",
    "    def __inti__(self):\n",
    "        print (\"class B run\")\n",
    "        \n",
    "    def fun2(self):\n",
    "        print(\"class B function fun2 run\")\n",
    "        \n",
    "class C(B):\n",
    "    def __inti__(self):\n",
    "        print(\"class c run\")\n",
    "    def fun3(self):\n",
    "        print(\"class c function fun3 run\")\n",
    "        \n",
    "obj2 = B()\n",
    "obj2.fun2()\n",
    "obj2.fun1()\n",
    "obj1 = A()\n",
    "obj1.fun1()\n",
    "obj3 = C()\n",
    "#obj3.fun3()\n",
    "obj3.fun2()\n",
    "obj3.fun1()\n",
    "\n"
   ]
  },
  {
   "cell_type": "code",
   "execution_count": 31,
   "id": "8a25635a",
   "metadata": {},
   "outputs": [
    {
     "name": "stdout",
     "output_type": "stream",
     "text": [
      "class B function fun2 run\n"
     ]
    },
    {
     "ename": "AttributeError",
     "evalue": "'B' object has no attribute 'fun1'",
     "output_type": "error",
     "traceback": [
      "\u001b[1;31m---------------------------------------------------------------------------\u001b[0m",
      "\u001b[1;31mAttributeError\u001b[0m                            Traceback (most recent call last)",
      "Cell \u001b[1;32mIn[31], line 23\u001b[0m\n\u001b[0;32m     21\u001b[0m obj2 \u001b[38;5;241m=\u001b[39m B()\n\u001b[0;32m     22\u001b[0m obj2\u001b[38;5;241m.\u001b[39mfun2()\n\u001b[1;32m---> 23\u001b[0m \u001b[43mobj2\u001b[49m\u001b[38;5;241;43m.\u001b[39;49m\u001b[43mfun1\u001b[49m()\n\u001b[0;32m     24\u001b[0m obj1 \u001b[38;5;241m=\u001b[39m A()\n\u001b[0;32m     25\u001b[0m obj1\u001b[38;5;241m.\u001b[39mfun1()\n",
      "\u001b[1;31mAttributeError\u001b[0m: 'B' object has no attribute 'fun1'"
     ]
    }
   ],
   "source": [
    "class A:\n",
    "    def __inti__(self):\n",
    "        print(\"class A run\")\n",
    "        \n",
    "    def fun1(self):\n",
    "        print(\"class A function fun1 run\")\n",
    "            \n",
    "class B:\n",
    "    def __inti__(self):\n",
    "        print (\"class B run\")\n",
    "        \n",
    "    def fun2(self):\n",
    "        print(\"class B function fun2 run\")\n",
    "        \n",
    "class C(A,B):\n",
    "    def __inti__(self):\n",
    "        print(\"class c run\")\n",
    "    def fun3(self):\n",
    "        print(\"class c function fun3 run\") \n",
    "\n"
   ]
  },
  {
   "cell_type": "code",
   "execution_count": 35,
   "id": "308813c6",
   "metadata": {},
   "outputs": [
    {
     "name": "stdout",
     "output_type": "stream",
     "text": [
      "class D function fun3 run\n"
     ]
    }
   ],
   "source": [
    "class A:\n",
    "    def __inti__(self):\n",
    "        print(\"class A run\")\n",
    "        \n",
    "    def fun1(self):\n",
    "        print(\"class A function fun1 run\")\n",
    "            \n",
    "class B(A):\n",
    "    def __inti__(self):\n",
    "        print (\"class B run\")\n",
    "        \n",
    "    def fun2(self):\n",
    "        print(\"class B function fun2 run\")\n",
    "\n",
    "class C():\n",
    "    def __inti__(self):\n",
    "        print (\"class C run\")\n",
    "        \n",
    "    def fun2(self):\n",
    "        print(\"class C function fun3 run\")\n",
    "        \n",
    "class D(B, C):\n",
    "    def __inti__(self):\n",
    "        print(\"class D run\")\n",
    "    def fun3(self):\n",
    "        print(\"class D function fun3 run\") \n",
    "        \n",
    "\n",
    "obj1 = D()\n",
    "obj1.fun3()\n"
   ]
  },
  {
   "cell_type": "code",
   "execution_count": 67,
   "id": "a80794ef",
   "metadata": {},
   "outputs": [
    {
     "name": "stdout",
     "output_type": "stream",
     "text": [
      "['physics', 'chemistry', 1997]\n",
      "[2, 3]\n",
      "5\n",
      "4\n",
      "1\n"
     ]
    }
   ],
   "source": [
    "list1 =[\"physics\",\"chemistry\", 1997, 2000];\n",
    "list2 =[1,2,3,4,5];\n",
    "list3= [\"A\",\"B\",\"C\",\"D\"];\n",
    "\n",
    "print(list1[0:3])\n",
    "print(list2[1:3])\n",
    "print(max(list2))\n",
    "print(len(list3))\n",
    "print(min(list2))\n",
    "\n"
   ]
  },
  {
   "cell_type": "code",
   "execution_count": 70,
   "id": "a59e391f",
   "metadata": {},
   "outputs": [
    {
     "name": "stdout",
     "output_type": "stream",
     "text": [
      "[1, 4]\n"
     ]
    }
   ],
   "source": [
    "list1=[1,4,5];\n",
    "list1.pop()\n",
    "print(list1)"
   ]
  },
  {
   "cell_type": "code",
   "execution_count": null,
   "id": "ff2baa4a",
   "metadata": {},
   "outputs": [],
   "source": [
    "dict= {'Name': 'Zara', 'Age':7};\n",
    "\n",
    "print \"dict['name']:\", dict['Name'];\n",
    "print\"dict['Age']:\", dict ['Age'];"
   ]
  },
  {
   "cell_type": "code",
   "execution_count": null,
   "id": "dcdc5286",
   "metadata": {},
   "outputs": [],
   "source": []
  }
 ],
 "metadata": {
  "kernelspec": {
   "display_name": "Python 3 (ipykernel)",
   "language": "python",
   "name": "python3"
  },
  "language_info": {
   "codemirror_mode": {
    "name": "ipython",
    "version": 3
   },
   "file_extension": ".py",
   "mimetype": "text/x-python",
   "name": "python",
   "nbconvert_exporter": "python",
   "pygments_lexer": "ipython3",
   "version": "3.10.9"
  }
 },
 "nbformat": 4,
 "nbformat_minor": 5
}
